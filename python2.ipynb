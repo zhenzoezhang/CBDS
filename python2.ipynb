{
  "nbformat": 4,
  "nbformat_minor": 0,
  "metadata": {
    "colab": {
      "name": "python2",
      "provenance": [],
      "include_colab_link": true
    },
    "kernelspec": {
      "name": "python3",
      "display_name": "Python 3"
    }
  },
  "cells": [
    {
      "cell_type": "markdown",
      "metadata": {
        "id": "view-in-github",
        "colab_type": "text"
      },
      "source": [
        "<a href=\"https://colab.research.google.com/github/zzhang2017/CBDS/blob/master/python2.ipynb\" target=\"_parent\"><img src=\"https://colab.research.google.com/assets/colab-badge.svg\" alt=\"Open In Colab\"/></a>"
      ]
    },
    {
      "cell_type": "code",
      "metadata": {
        "id": "NAGXYKVAuULn",
        "colab_type": "code",
        "colab": {}
      },
      "source": [
        "patients = [\n",
        "            {\n",
        "                'last_name': 'Blackwell',\n",
        "                'temperature': 37\n",
        "            },\n",
        "            {\n",
        "                'last_name': 'Gu',\n",
        "                'temperature': 37.2\n",
        "            },\n",
        "            {\n",
        "                'last_name': 'Rogers',\n",
        "                'temperature': 39\n",
        "            }\n",
        "]"
      ],
      "execution_count": 0,
      "outputs": []
    },
    {
      "cell_type": "code",
      "metadata": {
        "id": "2Dr0Mi2uupDa",
        "colab_type": "code",
        "outputId": "68af3719-4337-48f6-9431-c893b036405d",
        "colab": {
          "base_uri": "https://localhost:8080/",
          "height": 34
        }
      },
      "source": [
        "patients[2]"
      ],
      "execution_count": 22,
      "outputs": [
        {
          "output_type": "execute_result",
          "data": {
            "text/plain": [
              "{'last_name': 'Rogers', 'temperature': 39}"
            ]
          },
          "metadata": {
            "tags": []
          },
          "execution_count": 22
        }
      ]
    },
    {
      "cell_type": "code",
      "metadata": {
        "id": "l6vgw5SDurqa",
        "colab_type": "code",
        "colab": {}
      },
      "source": [
        "def print_patient(patient):\n",
        "  print(f'Patient {patient[\"last_name\"]} has a temperature of {patient[\"temperature\"]}')"
      ],
      "execution_count": 0,
      "outputs": []
    },
    {
      "cell_type": "code",
      "metadata": {
        "id": "Xnb7g8nau_Nd",
        "colab_type": "code",
        "outputId": "1149d1f4-5280-4f99-8edf-cdafb2b34f28",
        "colab": {
          "base_uri": "https://localhost:8080/",
          "height": 34
        }
      },
      "source": [
        "print_patient(patients[2])"
      ],
      "execution_count": 24,
      "outputs": [
        {
          "output_type": "stream",
          "text": [
            "Patient Rogers has a temperature of 39\n"
          ],
          "name": "stdout"
        }
      ]
    },
    {
      "cell_type": "code",
      "metadata": {
        "id": "msNdwYMpvBPI",
        "colab_type": "code",
        "colab": {}
      },
      "source": [
        "def degc_to_degf(degc):\n",
        "  return degc * 9 / 5 + 32"
      ],
      "execution_count": 0,
      "outputs": []
    },
    {
      "cell_type": "code",
      "metadata": {
        "id": "NfBZ40qFvJ1W",
        "colab_type": "code",
        "colab": {}
      },
      "source": [
        "def print_patient(patient):\n",
        "  print(f'Patient {patient[\"last_name\"]} has a temperature of {degc_to_degf(patient[\"temperature\"])}')"
      ],
      "execution_count": 0,
      "outputs": []
    },
    {
      "cell_type": "code",
      "metadata": {
        "id": "dN0u3gLUvRdk",
        "colab_type": "code",
        "outputId": "bced4208-d4cf-4f06-8d5f-48eea364cedd",
        "colab": {
          "base_uri": "https://localhost:8080/",
          "height": 34
        }
      },
      "source": [
        "print_patient(patients[2])"
      ],
      "execution_count": 27,
      "outputs": [
        {
          "output_type": "stream",
          "text": [
            "Patient Rogers has a temperature of 102.2\n"
          ],
          "name": "stdout"
        }
      ]
    },
    {
      "cell_type": "code",
      "metadata": {
        "id": "hvxup-lUvTXl",
        "colab_type": "code",
        "colab": {}
      },
      "source": [
        "def print_patient(patient):\n",
        "  temp_f = degc_to_degf(patient['temperature'])\n",
        "  print(f'Patient {patient[\"last_name\"]} has a temperature of {temp_f} °F')"
      ],
      "execution_count": 0,
      "outputs": []
    },
    {
      "cell_type": "code",
      "metadata": {
        "id": "TKQ1Bs22vl3z",
        "colab_type": "code",
        "outputId": "a8b79361-9307-43f2-ca66-ccdb9da65587",
        "colab": {
          "base_uri": "https://localhost:8080/",
          "height": 34
        }
      },
      "source": [
        "print_patient(patients[2])"
      ],
      "execution_count": 29,
      "outputs": [
        {
          "output_type": "stream",
          "text": [
            "Patient Rogers has a temperature of 102.2 °F\n"
          ],
          "name": "stdout"
        }
      ]
    },
    {
      "cell_type": "code",
      "metadata": {
        "id": "fq6F8RG6vnVb",
        "colab_type": "code",
        "outputId": "dacdf7be-6a70-4413-810e-b587bb984f4c",
        "colab": {
          "base_uri": "https://localhost:8080/",
          "height": 68
        }
      },
      "source": [
        "for patient in patients:\n",
        "  print_patient(patient)"
      ],
      "execution_count": 30,
      "outputs": [
        {
          "output_type": "stream",
          "text": [
            "Patient Blackwell has a temperature of 98.6 °F\n",
            "Patient Gu has a temperature of 98.96000000000001 °F\n",
            "Patient Rogers has a temperature of 102.2 °F\n"
          ],
          "name": "stdout"
        }
      ]
    },
    {
      "cell_type": "code",
      "metadata": {
        "id": "5Ve6paFIwBxI",
        "colab_type": "code",
        "outputId": "7c65665c-c2b4-41c4-e437-72f165247548",
        "colab": {
          "base_uri": "https://localhost:8080/",
          "height": 34
        }
      },
      "source": [
        "for patient in patients:\n",
        "  if patient['temperature'] > 38:\n",
        "    print_patient(patient)"
      ],
      "execution_count": 31,
      "outputs": [
        {
          "output_type": "stream",
          "text": [
            "Patient Rogers has a temperature of 102.2 °F\n"
          ],
          "name": "stdout"
        }
      ]
    },
    {
      "cell_type": "code",
      "metadata": {
        "id": "KKO_VQlKwaqt",
        "colab_type": "code",
        "colab": {}
      },
      "source": [
        "patients.append({\n",
        "    'last_name': 'Ricardo',\n",
        "    'temperature': 38.1\n",
        "})"
      ],
      "execution_count": 0,
      "outputs": []
    },
    {
      "cell_type": "code",
      "metadata": {
        "id": "trufwZC2wmlM",
        "colab_type": "code",
        "colab": {}
      },
      "source": [
        "def show_patients_with_fevers():\n",
        "  for patient in patients:\n",
        "    if patient['temperature'] > 38:\n",
        "      print_patient(patient)"
      ],
      "execution_count": 0,
      "outputs": []
    },
    {
      "cell_type": "code",
      "metadata": {
        "id": "dQxRFZ4Pwo2q",
        "colab_type": "code",
        "outputId": "9e29d727-a74b-4203-ff78-966c824dd772",
        "colab": {
          "base_uri": "https://localhost:8080/",
          "height": 51
        }
      },
      "source": [
        "show_patients_with_fevers()"
      ],
      "execution_count": 38,
      "outputs": [
        {
          "output_type": "stream",
          "text": [
            "Patient Rogers has a temperature of 102.2 °F\n",
            "Patient Ricardo has a temperature of 100.58000000000001 °F\n"
          ],
          "name": "stdout"
        }
      ]
    },
    {
      "cell_type": "code",
      "metadata": {
        "id": "yMUjQFauxEkf",
        "colab_type": "code",
        "colab": {}
      },
      "source": [
        "patients.append({\n",
        "    'last_name': \"Monroe\",\n",
        "    'temperature': 33\n",
        "})"
      ],
      "execution_count": 0,
      "outputs": []
    },
    {
      "cell_type": "code",
      "metadata": {
        "id": "PYDJhzGlxNJO",
        "colab_type": "code",
        "outputId": "837700fa-1a9a-4a8d-a80b-46d16f4c0f6b",
        "colab": {
          "base_uri": "https://localhost:8080/",
          "height": 51
        }
      },
      "source": [
        "show_patients_with_fevers()"
      ],
      "execution_count": 42,
      "outputs": [
        {
          "output_type": "stream",
          "text": [
            "Patient Rogers has a temperature of 102.2 °F\n",
            "Patient Ricardo has a temperature of 100.58000000000001 °F\n"
          ],
          "name": "stdout"
        }
      ]
    },
    {
      "cell_type": "code",
      "metadata": {
        "id": "WBlyGn-4xOGW",
        "colab_type": "code",
        "colab": {}
      },
      "source": [
        "def show_patients_with_unusual_temps():\n",
        "  for patient in patients:\n",
        "    if patient['temperature'] > 38 or patient['temperature'] < 36:\n",
        "      print_patient(patient)"
      ],
      "execution_count": 0,
      "outputs": []
    },
    {
      "cell_type": "code",
      "metadata": {
        "id": "y4BIf3ZFxa60",
        "colab_type": "code",
        "outputId": "370ef84e-eb6c-4f5d-9dc9-272c61008326",
        "colab": {
          "base_uri": "https://localhost:8080/",
          "height": 85
        }
      },
      "source": [
        "show_patients_with_unusual_temps()"
      ],
      "execution_count": 44,
      "outputs": [
        {
          "output_type": "stream",
          "text": [
            "Patient Rogers has a temperature of 102.2 °F\n",
            "Patient Ricardo has a temperature of 100.58000000000001 °F\n",
            "Patient Monroe has a temperature of 91.4 °F\n",
            "Patient Monroe has a temperature of 91.4 °F\n"
          ],
          "name": "stdout"
        }
      ]
    },
    {
      "cell_type": "code",
      "metadata": {
        "id": "KBN6lUIgxdNX",
        "colab_type": "code",
        "colab": {}
      },
      "source": [
        "def show_patients_with_usual_temps():\n",
        "  for patient in patients:\n",
        "        if 36 <= patient['temperature'] <= 38:\n",
        "          print_patient(patient)\n"
      ],
      "execution_count": 0,
      "outputs": []
    },
    {
      "cell_type": "code",
      "metadata": {
        "id": "I4aeitlAxwFk",
        "colab_type": "code",
        "outputId": "69f4e149-c01c-4725-dc95-a1a30bf4e32e",
        "colab": {
          "base_uri": "https://localhost:8080/",
          "height": 51
        }
      },
      "source": [
        "show_patients_with_usual_temps()"
      ],
      "execution_count": 46,
      "outputs": [
        {
          "output_type": "stream",
          "text": [
            "Patient Blackwell has a temperature of 98.6 °F\n",
            "Patient Gu has a temperature of 98.96000000000001 °F\n"
          ],
          "name": "stdout"
        }
      ]
    },
    {
      "cell_type": "code",
      "metadata": {
        "id": "WVEtXy7oxxay",
        "colab_type": "code",
        "colab": {}
      },
      "source": [
        "def show_patients_with_unusual_temps2():\n",
        "  for patient in patients:\n",
        "        if not (36 <= patient['temperature'] <= 38):\n",
        "          print_patient(patient)\n"
      ],
      "execution_count": 0,
      "outputs": []
    },
    {
      "cell_type": "code",
      "metadata": {
        "id": "LNI2Rnw4yJ7w",
        "colab_type": "code",
        "outputId": "864b44a6-16ca-4df8-b031-51f9b65e19d5",
        "colab": {
          "base_uri": "https://localhost:8080/",
          "height": 85
        }
      },
      "source": [
        "show_patients_with_unusual_temps2()"
      ],
      "execution_count": 48,
      "outputs": [
        {
          "output_type": "stream",
          "text": [
            "Patient Rogers has a temperature of 102.2 °F\n",
            "Patient Ricardo has a temperature of 100.58000000000001 °F\n",
            "Patient Monroe has a temperature of 91.4 °F\n",
            "Patient Monroe has a temperature of 91.4 °F\n"
          ],
          "name": "stdout"
        }
      ]
    },
    {
      "cell_type": "code",
      "metadata": {
        "id": "uL-5eKb0fq_1",
        "colab_type": "code",
        "colab": {
          "base_uri": "https://localhost:8080/",
          "height": 34
        },
        "outputId": "2c1e66eb-cfd0-44c7-b941-6c163196a578"
      },
      "source": [
        "4 == 2"
      ],
      "execution_count": 50,
      "outputs": [
        {
          "output_type": "execute_result",
          "data": {
            "text/plain": [
              "False"
            ]
          },
          "metadata": {
            "tags": []
          },
          "execution_count": 50
        }
      ]
    },
    {
      "cell_type": "code",
      "metadata": {
        "id": "jvfJYWAmyL9A",
        "colab_type": "code",
        "outputId": "24bd0ba6-e970-4053-99be-30e0eec1a761",
        "colab": {
          "base_uri": "https://localhost:8080/",
          "height": 34
        }
      },
      "source": [
        "not(4 == 2)"
      ],
      "execution_count": 49,
      "outputs": [
        {
          "output_type": "execute_result",
          "data": {
            "text/plain": [
              "True"
            ]
          },
          "metadata": {
            "tags": []
          },
          "execution_count": 49
        }
      ]
    },
    {
      "cell_type": "code",
      "metadata": {
        "id": "E1FcvtMvyToM",
        "colab_type": "code",
        "outputId": "203b5566-ec9a-4eeb-903a-da06dd436e65",
        "colab": {
          "base_uri": "https://localhost:8080/",
          "height": 34
        }
      },
      "source": [
        "4 != 2"
      ],
      "execution_count": 51,
      "outputs": [
        {
          "output_type": "execute_result",
          "data": {
            "text/plain": [
              "True"
            ]
          },
          "metadata": {
            "tags": []
          },
          "execution_count": 51
        }
      ]
    },
    {
      "cell_type": "code",
      "metadata": {
        "id": "zhkaq6K_yeIS",
        "colab_type": "code",
        "colab": {}
      },
      "source": [
        "def summarize_patients():\n",
        "    for patient in patients:\n",
        "        if not (36 <= patient['temperature'] <= 38):\n",
        "          print_patient(patient)\n",
        "        else:\n",
        "          print(f\"{patient['last_name']} is okay\")\n",
        "        print('---')"
      ],
      "execution_count": 0,
      "outputs": []
    },
    {
      "cell_type": "code",
      "metadata": {
        "id": "4MGHmXiIywro",
        "colab_type": "code",
        "outputId": "f9a35650-903c-4ab6-a7cc-d9312373294b",
        "colab": {
          "base_uri": "https://localhost:8080/",
          "height": 221
        }
      },
      "source": [
        "summarize_patients()"
      ],
      "execution_count": 54,
      "outputs": [
        {
          "output_type": "stream",
          "text": [
            "Blackwell is okay\n",
            "---\n",
            "Gu is okay\n",
            "---\n",
            "Patient Rogers has a temperature of 102.2 °F\n",
            "---\n",
            "Patient Ricardo has a temperature of 100.58000000000001 °F\n",
            "---\n",
            "Patient Monroe has a temperature of 91.4 °F\n",
            "---\n",
            "Patient Monroe has a temperature of 91.4 °F\n",
            "---\n"
          ],
          "name": "stdout"
        }
      ]
    },
    {
      "cell_type": "code",
      "metadata": {
        "id": "ZxGlMdnwyx4y",
        "colab_type": "code",
        "colab": {}
      },
      "source": [
        "names = ['Blackwell', 'Gu', 'Rogers', 'Ricardo', \"Monroe\"]\n",
        "temps = [37, 37.2, 39., 38.1, 33]"
      ],
      "execution_count": 0,
      "outputs": []
    },
    {
      "cell_type": "code",
      "metadata": {
        "id": "ay2auBfTzOGm",
        "colab_type": "code",
        "outputId": "f407d306-d099-4286-c4a7-7306f7b91b5c",
        "colab": {
          "base_uri": "https://localhost:8080/",
          "height": 102
        }
      },
      "source": [
        "for name, temp in zip(names, temps):\n",
        "  print(f\"{name}: {temp}\")"
      ],
      "execution_count": 57,
      "outputs": [
        {
          "output_type": "stream",
          "text": [
            "Blackwell: 37\n",
            "Gu: 37.2\n",
            "Rogers: 39.0\n",
            "Ricardo: 38.1\n",
            "Monroe: 33\n"
          ],
          "name": "stdout"
        }
      ]
    },
    {
      "cell_type": "code",
      "metadata": {
        "id": "2Y-PFd4izltS",
        "colab_type": "code",
        "outputId": "473600d9-f678-4421-d53a-dfc05a879c09",
        "colab": {
          "base_uri": "https://localhost:8080/",
          "height": 102
        }
      },
      "source": [
        "for index, name in enumerate(names):\n",
        "  print(f\"({index + 1}) {name}\")"
      ],
      "execution_count": 58,
      "outputs": [
        {
          "output_type": "stream",
          "text": [
            "(1) Blackwell\n",
            "(2) Gu\n",
            "(3) Rogers\n",
            "(4) Ricardo\n",
            "(5) Monroe\n"
          ],
          "name": "stdout"
        }
      ]
    },
    {
      "cell_type": "code",
      "metadata": {
        "id": "mAwB7kbjz_Sw",
        "colab_type": "code",
        "outputId": "8a940d47-59a6-4539-d2c7-d9f980a40d0c",
        "colab": {
          "base_uri": "https://localhost:8080/",
          "height": 34
        }
      },
      "source": [
        "names[4]"
      ],
      "execution_count": 59,
      "outputs": [
        {
          "output_type": "execute_result",
          "data": {
            "text/plain": [
              "'Monroe'"
            ]
          },
          "metadata": {
            "tags": []
          },
          "execution_count": 59
        }
      ]
    },
    {
      "cell_type": "code",
      "metadata": {
        "id": "vIIdovEK0LlG",
        "colab_type": "code",
        "outputId": "a718e0f8-6134-4a33-a2ea-72fb1b02e6c9",
        "colab": {
          "base_uri": "https://localhost:8080/",
          "height": 136
        }
      },
      "source": [
        "for index in range(7):\n",
        "  print(index)"
      ],
      "execution_count": 61,
      "outputs": [
        {
          "output_type": "stream",
          "text": [
            "0\n",
            "1\n",
            "2\n",
            "3\n",
            "4\n",
            "5\n",
            "6\n"
          ],
          "name": "stdout"
        }
      ]
    },
    {
      "cell_type": "code",
      "metadata": {
        "id": "MWju7G1m0VRl",
        "colab_type": "code",
        "outputId": "e85c3526-192e-49a1-ccda-14b60d60910e",
        "colab": {
          "base_uri": "https://localhost:8080/",
          "height": 68
        }
      },
      "source": [
        "for name in {\"Smith, Bob\", \"Jones, Bailey\", \"Marconi, Giovanni\"}:\n",
        "  print(name)"
      ],
      "execution_count": 62,
      "outputs": [
        {
          "output_type": "stream",
          "text": [
            "Marconi, Giovanni\n",
            "Smith, Bob\n",
            "Jones, Bailey\n"
          ],
          "name": "stdout"
        }
      ]
    },
    {
      "cell_type": "code",
      "metadata": {
        "id": "KXA639ch0gw9",
        "colab_type": "code",
        "outputId": "1005d749-914d-4b3a-fe9f-62001a25364b",
        "colab": {
          "base_uri": "https://localhost:8080/",
          "height": 34
        }
      },
      "source": [
        "patients[0]"
      ],
      "execution_count": 63,
      "outputs": [
        {
          "output_type": "execute_result",
          "data": {
            "text/plain": [
              "{'last_name': 'Blackwell', 'temperature': 37}"
            ]
          },
          "metadata": {
            "tags": []
          },
          "execution_count": 63
        }
      ]
    },
    {
      "cell_type": "code",
      "metadata": {
        "id": "Z2TtH5090mUL",
        "colab_type": "code",
        "outputId": "517a612a-f142-4cd5-c1f7-26caa05cbd3f",
        "colab": {
          "base_uri": "https://localhost:8080/",
          "height": 34
        }
      },
      "source": [
        "patients[0]['last_name']"
      ],
      "execution_count": 64,
      "outputs": [
        {
          "output_type": "execute_result",
          "data": {
            "text/plain": [
              "'Blackwell'"
            ]
          },
          "metadata": {
            "tags": []
          },
          "execution_count": 64
        }
      ]
    },
    {
      "cell_type": "code",
      "metadata": {
        "id": "s8W2LJsg0r4U",
        "colab_type": "code",
        "outputId": "66e1b7ab-6a66-4f9c-a673-0733336b62ca",
        "colab": {
          "base_uri": "https://localhost:8080/",
          "height": 51
        }
      },
      "source": [
        "for key, value in patients[0].items():\n",
        "  print(f\"{key}: {value}\")"
      ],
      "execution_count": 65,
      "outputs": [
        {
          "output_type": "stream",
          "text": [
            "last_name: Blackwell\n",
            "temperature: 37\n"
          ],
          "name": "stdout"
        }
      ]
    },
    {
      "cell_type": "code",
      "metadata": {
        "id": "Z8LPf5El0zQH",
        "colab_type": "code",
        "colab": {}
      },
      "source": [
        ""
      ],
      "execution_count": 0,
      "outputs": []
    }
  ]
}