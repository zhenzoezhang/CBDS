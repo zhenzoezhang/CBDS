{
  "nbformat": 4,
  "nbformat_minor": 0,
  "metadata": {
    "colab": {
      "name": "python1-exercises.ipynb",
      "provenance": [],
      "collapsed_sections": [],
      "include_colab_link": true
    },
    "kernelspec": {
      "name": "python3",
      "display_name": "Python 3"
    }
  },
  "cells": [
    {
      "cell_type": "markdown",
      "metadata": {
        "id": "view-in-github",
        "colab_type": "text"
      },
      "source": [
        "<a href=\"https://colab.research.google.com/github/zzhang2017/CBDS/blob/master/python1_exercises.ipynb\" target=\"_parent\"><img src=\"https://colab.research.google.com/assets/colab-badge.svg\" alt=\"Open In Colab\"/></a>"
      ]
    },
    {
      "cell_type": "markdown",
      "metadata": {
        "id": "EVAzbZQQKwhl",
        "colab_type": "text"
      },
      "source": [
        "Consider the following list of words:"
      ]
    },
    {
      "cell_type": "code",
      "metadata": {
        "id": "wYWFhAswKyP4",
        "colab_type": "code",
        "colab": {}
      },
      "source": [
        "words = [\n",
        "         \"In\", \"order\", \"to\", \"support\", \"research\", \"on\", \"genomics\",\n",
        "         \"proteomics\", \"signaling\", \"on\", \"the\", \"neostriatum\", \"in\",\n",
        "         \"rats\", \"and\", \"humans\", \"proteins\", \"arithmetic\", \"species\",\n",
        "         \"compiled\", \"significant\", \"differences\", \"in\", \"species\", \"primate\",\n",
        "         \"Designation\", \"of\", \"proteins\", \"without\", \"integration\",\n",
        "         \"designation\"\n",
        "]"
      ],
      "execution_count": 0,
      "outputs": []
    },
    {
      "cell_type": "markdown",
      "metadata": {
        "id": "kUbIRVVZLXEL",
        "colab_type": "text"
      },
      "source": [
        "How many words are in the `words` list? Use the `len` function to find out:"
      ]
    },
    {
      "cell_type": "code",
      "metadata": {
        "id": "jih_MXN5LViM",
        "colab_type": "code",
        "colab": {
          "base_uri": "https://localhost:8080/",
          "height": 34
        },
        "outputId": "10575167-4fb6-4ddd-a16f-b961103bc5c3"
      },
      "source": [
        "len(words)"
      ],
      "execution_count": 42,
      "outputs": [
        {
          "output_type": "execute_result",
          "data": {
            "text/plain": [
              "31"
            ]
          },
          "metadata": {
            "tags": []
          },
          "execution_count": 42
        }
      ]
    },
    {
      "cell_type": "markdown",
      "metadata": {
        "id": "Znwhz0ArLuG1",
        "colab_type": "text"
      },
      "source": [
        "Copy-paste the list of words here, but (1) assign it to a different variable `my_words` and (2) replace the square brackets `[]` with curly brackets `{}` to create a **set**."
      ]
    },
    {
      "cell_type": "code",
      "metadata": {
        "id": "sAhO6XVULsiH",
        "colab_type": "code",
        "colab": {}
      },
      "source": [
        "my_words = {\"In\", \"order\", \"to\", \"support\", \"research\", \"on\", \"genomics\",\n",
        "         \"proteomics\", \"signaling\", \"on\", \"the\", \"neostriatum\", \"in\",\n",
        "         \"rats\", \"and\", \"humans\", \"proteins\", \"arithmetic\", \"species\",\n",
        "         \"compiled\", \"significant\", \"differences\", \"in\", \"species\", \"primate\",\n",
        "         \"Designation\", \"of\", \"proteins\", \"without\", \"integration\",\n",
        "         \"designation\"}"
      ],
      "execution_count": 0,
      "outputs": []
    },
    {
      "cell_type": "markdown",
      "metadata": {
        "id": "mJmYQtEEMTwJ",
        "colab_type": "text"
      },
      "source": [
        "Use the `len` function on `my_words` to find out how many unique words are in the set. (Remember, sets do not have repeats but lists do.)"
      ]
    },
    {
      "cell_type": "code",
      "metadata": {
        "id": "YITQGVzUMQPr",
        "colab_type": "code",
        "colab": {
          "base_uri": "https://localhost:8080/",
          "height": 34
        },
        "outputId": "6d53e79f-5c40-48c3-fa6a-02b10a3fac27"
      },
      "source": [
        "len (my_words)"
      ],
      "execution_count": 44,
      "outputs": [
        {
          "output_type": "execute_result",
          "data": {
            "text/plain": [
              "27"
            ]
          },
          "metadata": {
            "tags": []
          },
          "execution_count": 44
        }
      ]
    },
    {
      "cell_type": "markdown",
      "metadata": {
        "id": "w8e6U7ITkM2J",
        "colab_type": "text"
      },
      "source": [
        "Do the words \"proteins\" and \"genes\" appear in the set of `my_words`? Check for them using `in`."
      ]
    },
    {
      "cell_type": "code",
      "metadata": {
        "id": "r3udvkBbkeME",
        "colab_type": "code",
        "colab": {
          "base_uri": "https://localhost:8080/",
          "height": 34
        },
        "outputId": "3c026a65-dfde-4fd6-b891-62f15b63772f"
      },
      "source": [
        "\"protein\" in my_words"
      ],
      "execution_count": 45,
      "outputs": [
        {
          "output_type": "execute_result",
          "data": {
            "text/plain": [
              "False"
            ]
          },
          "metadata": {
            "tags": []
          },
          "execution_count": 45
        }
      ]
    },
    {
      "cell_type": "code",
      "metadata": {
        "id": "sFQwjUyikeZd",
        "colab_type": "code",
        "colab": {
          "base_uri": "https://localhost:8080/",
          "height": 34
        },
        "outputId": "aaafefb3-d2b2-43a3-8dda-d4a4d6c95a1c"
      },
      "source": [
        "\"genes\" in my_words"
      ],
      "execution_count": 46,
      "outputs": [
        {
          "output_type": "execute_result",
          "data": {
            "text/plain": [
              "False"
            ]
          },
          "metadata": {
            "tags": []
          },
          "execution_count": 46
        }
      ]
    },
    {
      "cell_type": "markdown",
      "metadata": {
        "id": "hky3BML7cGmE",
        "colab_type": "text"
      },
      "source": [
        "Consider the following dictionary of patients and their data. The keys of the dictionary are unique identifiers assigned to each patient. This allows the system to distinguish multiple people with the same name."
      ]
    },
    {
      "cell_type": "code",
      "metadata": {
        "id": "KjY1GwmiMRTS",
        "colab_type": "code",
        "colab": {}
      },
      "source": [
        "patients = {\n",
        "    521236: {\n",
        "        'last_name': 'Dawson',\n",
        "        'first_name': 'Louise',\n",
        "        'temperatures': [37.7, 37.2, 37.5, 37.3],\n",
        "        'height': 1.49\n",
        "    },\n",
        "    627256: {\n",
        "        'last_name': 'Valencia',\n",
        "        'first_name': 'Thelma',\n",
        "        'temperatures': [36.5, 36.9],\n",
        "        'height': 1.74\n",
        "    },\n",
        "    876516: {\n",
        "        'last_name': 'Ventura',\n",
        "        'first_name': 'William',\n",
        "        'temperatures': [36.6, 36.8, 37.8, 37.2],\n",
        "        'height': 1.70\n",
        "    },\n",
        "    161451: {\n",
        "        'last_name': 'Shackelford',\n",
        "        'first_name': 'Steven',\n",
        "        'temperatures': [37.9, 38.4, 38.4],\n",
        "        'height': 1.67\n",
        "    },\n",
        "    623724: {\n",
        "        'last_name': 'Rzeczycki',\n",
        "        'first_name': 'Kristi',\n",
        "        'temperatures': [37.9, 37.8],\n",
        "        'height': 1.65\n",
        "    }\n",
        "}"
      ],
      "execution_count": 0,
      "outputs": []
    },
    {
      "cell_type": "markdown",
      "metadata": {
        "id": "QPSwHENMgyrK",
        "colab_type": "text"
      },
      "source": [
        "How many patients are there? Use `len` to find out."
      ]
    },
    {
      "cell_type": "code",
      "metadata": {
        "id": "24dNd5iMg4lV",
        "colab_type": "code",
        "colab": {
          "base_uri": "https://localhost:8080/",
          "height": 34
        },
        "outputId": "5fd5f100-2be4-47b8-bcfb-c0854db28eca"
      },
      "source": [
        "len (patients)"
      ],
      "execution_count": 48,
      "outputs": [
        {
          "output_type": "execute_result",
          "data": {
            "text/plain": [
              "5"
            ]
          },
          "metadata": {
            "tags": []
          },
          "execution_count": 48
        }
      ]
    },
    {
      "cell_type": "markdown",
      "metadata": {
        "id": "Xz_2RUFDjEfd",
        "colab_type": "text"
      },
      "source": [
        "What is the height of patient 876516? Write code using `[]` to find out."
      ]
    },
    {
      "cell_type": "code",
      "metadata": {
        "id": "QFTtszUajKI0",
        "colab_type": "code",
        "colab": {
          "base_uri": "https://localhost:8080/",
          "height": 34
        },
        "outputId": "a0de7169-c14f-4a85-f96b-c1ee168d7f43"
      },
      "source": [
        "patients[876516][\"height\"]"
      ],
      "execution_count": 49,
      "outputs": [
        {
          "output_type": "execute_result",
          "data": {
            "text/plain": [
              "1.7"
            ]
          },
          "metadata": {
            "tags": []
          },
          "execution_count": 49
        }
      ]
    },
    {
      "cell_type": "markdown",
      "metadata": {
        "id": "akVNcnGUjKmZ",
        "colab_type": "text"
      },
      "source": [
        "Given that the height is measured in meters and that there are 2.54 cm for every inch, how tall is patient 876516 in inches? Write code to find out."
      ]
    },
    {
      "cell_type": "code",
      "metadata": {
        "id": "hkLa-_iMjzOm",
        "colab_type": "code",
        "colab": {
          "base_uri": "https://localhost:8080/",
          "height": 34
        },
        "outputId": "0fecf4f7-4b40-4a69-d396-0280081fd5b1"
      },
      "source": [
        "patients[876516][\"height\"] *100 / 2.54"
      ],
      "execution_count": 52,
      "outputs": [
        {
          "output_type": "execute_result",
          "data": {
            "text/plain": [
              "66.92913385826772"
            ]
          },
          "metadata": {
            "tags": []
          },
          "execution_count": 52
        }
      ]
    },
    {
      "cell_type": "markdown",
      "metadata": {
        "id": "i71n3LDTi0B2",
        "colab_type": "text"
      },
      "source": [
        "How many temperature readings have been made for patient 876516? Write code using `[]` and `len` to find out."
      ]
    },
    {
      "cell_type": "code",
      "metadata": {
        "id": "aA_U2XDhi-dZ",
        "colab_type": "code",
        "colab": {
          "base_uri": "https://localhost:8080/",
          "height": 34
        },
        "outputId": "9a18ba5d-90c5-4c5e-a9fd-1ca8008a6780"
      },
      "source": [
        "len(patients[876516]['temperatures'])"
      ],
      "execution_count": 53,
      "outputs": [
        {
          "output_type": "execute_result",
          "data": {
            "text/plain": [
              "4"
            ]
          },
          "metadata": {
            "tags": []
          },
          "execution_count": 53
        }
      ]
    },
    {
      "cell_type": "markdown",
      "metadata": {
        "id": "rN-np9Oyj8Xv",
        "colab_type": "text"
      },
      "source": [
        "What is the maximum temperature reading for patient 876516? Use `max`."
      ]
    },
    {
      "cell_type": "code",
      "metadata": {
        "id": "go3YArWpkBAI",
        "colab_type": "code",
        "colab": {
          "base_uri": "https://localhost:8080/",
          "height": 34
        },
        "outputId": "e9ecff60-3945-4c4d-fc2f-736d401ff979"
      },
      "source": [
        "max(patients[876516]['temperatures'])"
      ],
      "execution_count": 54,
      "outputs": [
        {
          "output_type": "execute_result",
          "data": {
            "text/plain": [
              "37.8"
            ]
          },
          "metadata": {
            "tags": []
          },
          "execution_count": 54
        }
      ]
    },
    {
      "cell_type": "markdown",
      "metadata": {
        "id": "oNv7uLgcknah",
        "colab_type": "text"
      },
      "source": [
        "What was the second temperature reading recorded for patient 876516? Use `[]`. Your answer should be 36.8. If you get a different answer, figure out why and fix your query."
      ]
    },
    {
      "cell_type": "code",
      "metadata": {
        "id": "ZN3tJ2e4lDGL",
        "colab_type": "code",
        "colab": {
          "base_uri": "https://localhost:8080/",
          "height": 34
        },
        "outputId": "3d36d57d-eaba-4705-cd04-b856243d6b00"
      },
      "source": [
        "patients[876516]['temperatures'][1]"
      ],
      "execution_count": 55,
      "outputs": [
        {
          "output_type": "execute_result",
          "data": {
            "text/plain": [
              "36.8"
            ]
          },
          "metadata": {
            "tags": []
          },
          "execution_count": 55
        }
      ]
    },
    {
      "cell_type": "markdown",
      "metadata": {
        "id": "uTKfDKKCg47v",
        "colab_type": "text"
      },
      "source": [
        "Do we have data for the patient 531616? What about patient 161451? Test for them using `in`."
      ]
    },
    {
      "cell_type": "code",
      "metadata": {
        "id": "EVDuwqx6j3JK",
        "colab_type": "code",
        "colab": {}
      },
      "source": [
        ""
      ],
      "execution_count": 0,
      "outputs": []
    },
    {
      "cell_type": "markdown",
      "metadata": {
        "id": "EDx1mqlplXAz",
        "colab_type": "text"
      },
      "source": [
        "**append** a new temperature reading of 38.3 for patient 623724. After you have done so, find the maximum and minimum of their measured temperature values."
      ]
    },
    {
      "cell_type": "code",
      "metadata": {
        "id": "f_USiUcwlvXX",
        "colab_type": "code",
        "colab": {}
      },
      "source": [
        "patients[623724]['temperatures'].append(38.3)"
      ],
      "execution_count": 0,
      "outputs": []
    },
    {
      "cell_type": "code",
      "metadata": {
        "id": "YpMXxWQllvam",
        "colab_type": "code",
        "colab": {
          "base_uri": "https://localhost:8080/",
          "height": 34
        },
        "outputId": "a3eb5ea8-28ee-4b34-e04f-9dc397cac68f"
      },
      "source": [
        "max(patients[623724]['temperatures'])"
      ],
      "execution_count": 60,
      "outputs": [
        {
          "output_type": "execute_result",
          "data": {
            "text/plain": [
              "38.3"
            ]
          },
          "metadata": {
            "tags": []
          },
          "execution_count": 60
        }
      ]
    },
    {
      "cell_type": "code",
      "metadata": {
        "id": "xt8YUItrlvdU",
        "colab_type": "code",
        "colab": {
          "base_uri": "https://localhost:8080/",
          "height": 34
        },
        "outputId": "9de9bf52-615f-4f3e-c913-ffc038ed1c38"
      },
      "source": [
        "min(patients[623724]['temperatures'])"
      ],
      "execution_count": 61,
      "outputs": [
        {
          "output_type": "execute_result",
          "data": {
            "text/plain": [
              "37.8"
            ]
          },
          "metadata": {
            "tags": []
          },
          "execution_count": 61
        }
      ]
    },
    {
      "cell_type": "markdown",
      "metadata": {
        "id": "P2h3kqsPl0Pw",
        "colab_type": "text"
      },
      "source": [
        "Add Susan Sinclair (patient 517235) to the dictionary. She is 1.67m tall and has never had her temperature recorded (i.e. the list is `[]`)."
      ]
    },
    {
      "cell_type": "code",
      "metadata": {
        "id": "TtdaEthfmfps",
        "colab_type": "code",
        "colab": {}
      },
      "source": [
        "patients[517235] = {\n",
        "        'last_name':'Rzeczycki',\n",
        "        'first_name':'Kristi',\n",
        "        'temperatures':[37.9, 37.8],\n",
        "        'height':1.65\n",
        "    }"
      ],
      "execution_count": 0,
      "outputs": []
    },
    {
      "cell_type": "markdown",
      "metadata": {
        "id": "mwOcugmomopP",
        "colab_type": "text"
      },
      "source": [
        "Verify that you added her successfully by checking the number of patients in the dictionary. There should be six."
      ]
    },
    {
      "cell_type": "code",
      "metadata": {
        "id": "YpComTskmx1D",
        "colab_type": "code",
        "colab": {
          "base_uri": "https://localhost:8080/",
          "height": 34
        },
        "outputId": "33efd56c-2f28-4022-bff0-a2523b8d1092"
      },
      "source": [
        "len(patients)"
      ],
      "execution_count": 65,
      "outputs": [
        {
          "output_type": "execute_result",
          "data": {
            "text/plain": [
              "6"
            ]
          },
          "metadata": {
            "tags": []
          },
          "execution_count": 65
        }
      ]
    },
    {
      "cell_type": "markdown",
      "metadata": {
        "id": "DFk5VlgXaJbn",
        "colab_type": "text"
      },
      "source": [
        "Suppose that the number of patients in your system doubles every 10 days. How many patients will you have in 30 days? Hint: start with the `len(patients)` you have now and multiply it by 2 raised to the power of the number of doublings (which you can compute using division)."
      ]
    },
    {
      "cell_type": "code",
      "metadata": {
        "id": "ULzXWvB-buSH",
        "colab_type": "code",
        "colab": {
          "base_uri": "https://localhost:8080/",
          "height": 34
        },
        "outputId": "7a3982cb-6c9d-4677-a366-fe9b7514588b"
      },
      "source": [
        "len(patients) * (2**(30/10))"
      ],
      "execution_count": 66,
      "outputs": [
        {
          "output_type": "execute_result",
          "data": {
            "text/plain": [
              "48.0"
            ]
          },
          "metadata": {
            "tags": []
          },
          "execution_count": 66
        }
      ]
    },
    {
      "cell_type": "code",
      "metadata": {
        "id": "1p_NNjE6nnS6",
        "colab_type": "code",
        "colab": {}
      },
      "source": [
        ""
      ],
      "execution_count": 0,
      "outputs": []
    }
  ]
}